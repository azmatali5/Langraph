{
 "cells": [
  {
   "cell_type": "markdown",
   "id": "fcb1c59c",
   "metadata": {},
   "source": [
    "###  single node Greeting message "
   ]
  },
  {
   "cell_type": "code",
   "execution_count": 1,
   "id": "2f9152df",
   "metadata": {},
   "outputs": [],
   "source": [
    "from typing import TypedDict ,Dict\n",
    "from langgraph.graph import StateGraph"
   ]
  },
  {
   "cell_type": "code",
   "execution_count": 2,
   "id": "edd540aa",
   "metadata": {},
   "outputs": [],
   "source": [
    "# defining  the state schema for the graph\n",
    "class agentstate(TypedDict):\n",
    "    name: str\n",
    "    result:str"
   ]
  },
  {
   "cell_type": "code",
   "execution_count": 12,
   "id": "2423775d",
   "metadata": {},
   "outputs": [],
   "source": [
    "# defing the node function  \n",
    "def greet_node(state: agentstate) -> agentstate:\n",
    "    # doc string \n",
    "    '''node for greeting to a person'''\n",
    "    state['result']=f\" hy {state['name']} how are you\"\n",
    "    return state"
   ]
  },
  {
   "cell_type": "code",
   "execution_count": 13,
   "id": "863e0b5d",
   "metadata": {},
   "outputs": [],
   "source": [
    "graph=StateGraph(agentstate)\n",
    "graph.add_node('greet',greet_node)\n",
    "graph.set_entry_point('greet')\n",
    "graph.set_finish_point('greet')\n",
    "app=graph.compile()"
   ]
  },
  {
   "cell_type": "code",
   "execution_count": 14,
   "id": "031eb8bf",
   "metadata": {},
   "outputs": [],
   "source": [
    "finl=app.invoke({'name':'Bob'})\n",
    " # should return \" hy Bob how are you\""
   ]
  },
  {
   "cell_type": "code",
   "execution_count": 15,
   "id": "33afc3a1",
   "metadata": {},
   "outputs": [
    {
     "name": "stdout",
     "output_type": "stream",
     "text": [
      " hy Bob how are you\n"
     ]
    }
   ],
   "source": [
    "print(finl['result'])  # Output the result of the greeting"
   ]
  },
  {
   "cell_type": "markdown",
   "id": "59eec9c1",
   "metadata": {},
   "source": [
    "### reply node"
   ]
  },
  {
   "cell_type": "code",
   "execution_count": 16,
   "id": "855b7ecb",
   "metadata": {},
   "outputs": [],
   "source": [
    "class Agentstate(TypedDict):\n",
    "    name:str\n",
    "    reply: str\n",
    "    result: str"
   ]
  },
  {
   "cell_type": "code",
   "execution_count": 17,
   "id": "805575bc",
   "metadata": {},
   "outputs": [],
   "source": [
    "# node function \n",
    "def reply_node(state: Agentstate) -> Agentstate:\n",
    "    ''' node for reply to person'''\n",
    "    state['result']=f\"yes {state['name']}, I am {state['reply']}\"\n",
    "    return state\n",
    "\n",
    "graph=StateGraph(Agentstate)\n",
    "graph.add_node('reply',reply_node)\n",
    "graph.set_entry_point('reply')  \n",
    "graph.set_finish_point('reply')\n",
    "app=graph.compile()\n",
    "\n",
    "final=app.invoke({'name':'Bob','reply':'good'})"
   ]
  },
  {
   "cell_type": "code",
   "execution_count": 18,
   "id": "c22edb8f",
   "metadata": {},
   "outputs": [
    {
     "name": "stdout",
     "output_type": "stream",
     "text": [
      "yes Bob, I am good\n"
     ]
    }
   ],
   "source": [
    "print(final['result'])"
   ]
  },
  {
   "cell_type": "code",
   "execution_count": null,
   "id": "25f13522",
   "metadata": {},
   "outputs": [],
   "source": []
  }
 ],
 "metadata": {
  "kernelspec": {
   "display_name": "Python 3",
   "language": "python",
   "name": "python3"
  },
  "language_info": {
   "codemirror_mode": {
    "name": "ipython",
    "version": 3
   },
   "file_extension": ".py",
   "mimetype": "text/x-python",
   "name": "python",
   "nbconvert_exporter": "python",
   "pygments_lexer": "ipython3",
   "version": "3.12.2"
  }
 },
 "nbformat": 4,
 "nbformat_minor": 5
}
