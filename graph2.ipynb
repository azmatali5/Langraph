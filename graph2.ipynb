{
 "cells": [
  {
   "cell_type": "markdown",
   "id": "18df1552",
   "metadata": {},
   "source": [
    "### proccess multiple inputs in a graph \n"
   ]
  },
  {
   "cell_type": "code",
   "execution_count": 1,
   "id": "6b2514cb",
   "metadata": {},
   "outputs": [],
   "source": [
    "from typing import TypedDict , Dict\n",
    "from langgraph.graph import StateGraph "
   ]
  },
  {
   "cell_type": "code",
   "execution_count": 2,
   "id": "2ea85722",
   "metadata": {},
   "outputs": [],
   "source": [
    "# making a node schema for our graph \n",
    "class agentstate (TypedDict) :\n",
    "    name:str\n",
    "    list:list[int]\n",
    "    result : str\n"
   ]
  },
  {
   "cell_type": "code",
   "execution_count": 3,
   "id": "17d9b645",
   "metadata": {},
   "outputs": [],
   "source": [
    "# function node \n",
    "def process_one (state:agentstate )->agentstate:\n",
    "    ''' adding two nodes '''\n",
    "    state['result']=f\" {state['name']} your answer {sum(state['list'])}\"\n",
    "    return state\n"
   ]
  },
  {
   "cell_type": "code",
   "execution_count": 6,
   "id": "a0081219",
   "metadata": {},
   "outputs": [],
   "source": [
    "graph=StateGraph(agentstate)\n",
    "graph.add_node('process',process_one)\n",
    "graph.set_entry_point(\"process\")\n",
    "graph.set_finish_point(\"process\")\n",
    "app=graph.compile()"
   ]
  },
  {
   "cell_type": "code",
   "execution_count": null,
   "id": "1877b7c5",
   "metadata": {},
   "outputs": [
    {
     "data": {
      "text/plain": [
       "' ali your answer 7'"
      ]
     },
     "execution_count": 7,
     "metadata": {},
     "output_type": "execute_result"
    }
   ],
   "source": [
    "result=app.invoke({\"list\":[1,3,3], \"name\":'ali' })\n",
    "result['result']"
   ]
  },
  {
   "cell_type": "code",
   "execution_count": null,
   "id": "7f7f2682",
   "metadata": {},
   "outputs": [],
   "source": []
  }
 ],
 "metadata": {
  "kernelspec": {
   "display_name": "Python 3",
   "language": "python",
   "name": "python3"
  },
  "language_info": {
   "codemirror_mode": {
    "name": "ipython",
    "version": 3
   },
   "file_extension": ".py",
   "mimetype": "text/x-python",
   "name": "python",
   "nbconvert_exporter": "python",
   "pygments_lexer": "ipython3",
   "version": "3.12.2"
  }
 },
 "nbformat": 4,
 "nbformat_minor": 5
}
