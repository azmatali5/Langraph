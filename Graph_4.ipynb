{
 "cells": [
  {
   "cell_type": "markdown",
   "id": "65db5e29",
   "metadata": {},
   "source": [
    "## Graph V "
   ]
  },
  {
   "cell_type": "code",
   "execution_count": 1,
   "id": "701bf458",
   "metadata": {},
   "outputs": [],
   "source": [
    "from typing import List ,TypedDict\n",
    "import random\n",
    "from langgraph.graph import StateGraph,END\n"
   ]
  },
  {
   "cell_type": "code",
   "execution_count": 2,
   "id": "c0329a67",
   "metadata": {},
   "outputs": [],
   "source": [
    "# definning a state schema \n",
    "class Agentstate(TypedDict):\n",
    "    name:str\n",
    "    number:List[int]\n",
    "    counter:int"
   ]
  },
  {
   "cell_type": "code",
   "execution_count": null,
   "id": "4dd83811",
   "metadata": {},
   "outputs": [],
   "source": [
    "# defing the node function\n",
    "def greeting_node(state: Agentstate)->Agentstate:\n",
    "    '''this node greets to random person'''\n",
    "    state['name']=f\" hi their {state['name']}\"\n",
    "    state['counter']=0\n",
    "    return state\n",
    "    \n",
    "\n",
    "def random(state:Agentstate)->Agentstate:\n",
    "    '''this node genrates a random number from 0 to 10'''\n",
    "    state['number'].append(random.randint(0,10))\n",
    "\n",
    "    "
   ]
  }
 ],
 "metadata": {
  "kernelspec": {
   "display_name": "Python 3",
   "language": "python",
   "name": "python3"
  },
  "language_info": {
   "codemirror_mode": {
    "name": "ipython",
    "version": 3
   },
   "file_extension": ".py",
   "mimetype": "text/x-python",
   "name": "python",
   "nbconvert_exporter": "python",
   "pygments_lexer": "ipython3",
   "version": "3.12.2"
  }
 },
 "nbformat": 4,
 "nbformat_minor": 5
}
