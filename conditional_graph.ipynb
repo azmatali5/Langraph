{
 "cells": [
  {
   "cell_type": "markdown",
   "id": "d0910fb1",
   "metadata": {},
   "source": [
    "### conditional graph "
   ]
  },
  {
   "cell_type": "code",
   "execution_count": 2,
   "id": "17deddca",
   "metadata": {},
   "outputs": [],
   "source": [
    "from typing import TypedDict\n",
    "from langgraph.graph import StateGraph ,START,END"
   ]
  },
  {
   "cell_type": "code",
   "execution_count": 3,
   "id": "bfb2c34f",
   "metadata": {},
   "outputs": [],
   "source": [
    "# created a stateSchema \n",
    "class agentstate(TypedDict):\n",
    "    number1 : int\n",
    "    number2: int \n",
    "    final_number: int\n",
    "    operation: str"
   ]
  },
  {
   "cell_type": "code",
   "execution_count": 4,
   "id": "7567a6c2",
   "metadata": {},
   "outputs": [],
   "source": [
    "# node function \n",
    "\n",
    "def adder(state: agentstate)->agentstate:\n",
    "    '''this function add two nodes'''\n",
    "    state['final_number']= state['number1']+state['number2']\n",
    "    return state\n",
    "def subtractor(state: agentstate )->agentstate:\n",
    "    '''this node subtract two nodes '''\n",
    "    state['final_number']=state['number1']-state['number2']\n",
    "    return state\n",
    "def decision_node(state:agentstate)->agentstate:\n",
    "    if state['operation']=='+':\n",
    "        return 'addition_operator'\n",
    "    if state['operation']=='-':\n",
    "        return 'substractor_operator'"
   ]
  },
  {
   "cell_type": "code",
   "execution_count": 5,
   "id": "14231d81",
   "metadata": {},
   "outputs": [],
   "source": [
    " # desine a graph \n",
    "graph= StateGraph(agentstate)\n",
    "\n",
    "graph.add_node(\"adder_node\",adder)\n",
    "graph.add_node(\"subtractor_node\",subtractor)\n",
    "graph.add_node(\"router\",lambda state:state)\n",
    "graph.add_edge(START,\"router\")\n",
    "graph.add_conditional_edges(\n",
    "    \"router\",\n",
    "    decision_node,\n",
    "    # edge :- node \n",
    "    {\n",
    "        \"addition_operator\":\"adder_node\",\n",
    "        \"substractor_operator\":\"subtractor_node\"\n",
    "    }\n",
    ")\n",
    "graph.add_edge('adder_node',END)\n",
    "graph.add_edge('subtractor_node',END)\n",
    "app=graph.compile()\n"
   ]
  },
  {
   "cell_type": "code",
   "execution_count": 6,
   "id": "95c38c3d",
   "metadata": {},
   "outputs": [
    {
     "data": {
      "image/png": "[encoded data removed]",
      "text/plain": [
       "<IPython.core.display.Image object>"
      ]
     },
     "metadata": {},
     "output_type": "display_data"
    }
   ],
   "source": [
    "\n",
    "from IPython.display import Image,display\n",
    "display(Image(app.get_graph().draw_mermaid_png()))\n",
    "\n"
   ]
  },
  {
   "cell_type": "code",
   "execution_count": 7,
   "id": "29ffe201",
   "metadata": {},
   "outputs": [
    {
     "data": {
      "text/plain": [
       "{'number1': 1, 'number2': 3, 'final_number': 4, 'operation': '+'}"
      ]
     },
     "execution_count": 7,
     "metadata": {},
     "output_type": "execute_result"
    }
   ],
   "source": [
    "result=agentstate(number1=1,number2=3,operation=\"+\")\n",
    "\n",
    "app.invoke(result)"
   ]
  },
  {
   "cell_type": "code",
   "execution_count": 8,
   "id": "896a527c",
   "metadata": {},
   "outputs": [
    {
     "data": {
      "text/plain": [
       "{'number1': 1, 'number2': 2, 'final_number': 3, 'operation': '+'}"
      ]
     },
     "execution_count": 8,
     "metadata": {},
     "output_type": "execute_result"
    }
   ],
   "source": [
    "# second way \n",
    "result2=app.invoke({'operation':\"+\",'number1':1,'number2':2})\n",
    "result2"
   ]
  },
  {
   "cell_type": "markdown",
   "id": "aafb1e10",
   "metadata": {},
   "source": [
    "### Exercise question use two condiotnal edges "
   ]
  },
  {
   "cell_type": "code",
   "execution_count": 9,
   "id": "274461dc",
   "metadata": {},
   "outputs": [],
   "source": [
    "#  state schema for our exercise\n",
    "class Agentstate(TypedDict):\n",
    "    number1:int  \n",
    "    number2:int  \n",
    "    number3:int  \n",
    "    number4:int  \n",
    "    final_number1:int\n",
    "    final_number2:int\n",
    "    operation1:str\n",
    "    operation2:str"
   ]
  },
  {
   "cell_type": "code",
   "execution_count": 29,
   "id": "101785a3",
   "metadata": {},
   "outputs": [],
   "source": [
    "# node function\n",
    "def adder1 ( state:Agentstate)->Agentstate:\n",
    "    \"\"\"\"this node add the number \"\"\"\n",
    "    state ['final_number1']=state['number1']+ state['number2']\n",
    "    return state\n",
    "\n",
    "def subtractor1 ( state:Agentstate)->Agentstate:\n",
    "    \"\"\"\"this node add the number \"\"\"\n",
    "    state ['final_number1']=state['number1']- state['number2']\n",
    "    return state\n",
    "\n",
    "\n",
    "#   first decision for router\n",
    "\n",
    "def decide_next_node1( state: Agentstate)->Agentstate:\n",
    "    '''decide the next node '''\n",
    "    if state['operation1']=='+':\n",
    "        return 'add_operation1'\n",
    "    elif state['operation1']=='-':\n",
    "        print('sub1')\n",
    "        return 'sub1_operation1'\n",
    "\n",
    "\n",
    "def adder2 (state:Agentstate)->Agentstate:\n",
    "    ''' second adder node '''\n",
    "    state['final_number2']=state['number3']+state['number4']\n",
    "    return state\n",
    "\n",
    "def subtractor2 (state:Agentstate)->Agentstate:\n",
    "    ''' second adder node '''\n",
    "    state['final_number2']=state['number3']-state['number4']\n",
    "    return state\n",
    "\n",
    "\n",
    "# second decision for router \n",
    "     \n",
    "def decide_next_node2(state:Agentstate)->Agentstate:\n",
    "    '''second time decide node'''\n",
    "    if state['operation2']=='+':\n",
    "        print('add2')\n",
    "        return 'add_operation2'\n",
    "    elif state['operation2']=='-':\n",
    "        print('sub2') \n",
    "        return 'sub_operation2'\n",
    "\n",
    "            "
   ]
  },
  {
   "cell_type": "code",
   "execution_count": 33,
   "id": "10b9d65c",
   "metadata": {},
   "outputs": [],
   "source": [
    "graph=StateGraph(Agentstate)\n",
    "\n",
    "# first we have add all the nodes one by one \n",
    "\n",
    "graph.add_node('adder_node1',adder1)\n",
    "graph.add_node('sub_node1',subtractor1)\n",
    "graph.add_node('router1',lambda state:state)\n",
    "\n",
    "graph.add_node(\"adder_node2\",adder2)\n",
    "graph.add_node('sub_node2',subtractor2)\n",
    "graph.add_node('router2',lambda state:state)\n",
    "\n",
    "graph.add_edge(START,'router1')\n",
    "\n",
    "graph.add_conditional_edges(\n",
    "    \"router1\",\n",
    "    decide_next_node1,\n",
    "\n",
    "    # adge : node format\n",
    "    {\n",
    "        'add_operation1':'adder_node1',\n",
    "        'sub1_operation1':'sub_node1'\n",
    "    }\n",
    ")\n",
    "\n",
    "# now attach node one with node two using egdes because edge are used to connect node one to other node\n",
    "graph.add_edge('adder_node1','router2')\n",
    "graph.add_edge('sub_node1','router2')\n",
    "\n",
    "graph.add_conditional_edges(\n",
    "    'router2',\n",
    "    decide_next_node2,\n",
    "    {\n",
    "        # edge : node format\n",
    "        'add_operation2':'adder_node2',\n",
    "        'sub_operation2':'sub_node2'\n",
    "    }\n",
    "    )\n",
    "graph.add_edge('adder_node2',END)\n",
    "graph.add_edge('sub_node2',END)\n",
    "app1=graph.compile()"
   ]
  },
  {
   "cell_type": "code",
   "execution_count": 25,
   "id": "e4079b44",
   "metadata": {},
   "outputs": [
    {
     "data": {
      "image/png": "[encoded data removed]",
      "text/plain": [
       "<IPython.core.display.Image object>"
      ]
     },
     "metadata": {},
     "output_type": "display_data"
    }
   ],
   "source": [
    "from IPython.display import Image,display\n",
    "display(Image(app1.get_graph().draw_mermaid_png()))"
   ]
  },
  {
   "cell_type": "code",
   "execution_count": 34,
   "id": "c1ed6364",
   "metadata": {},
   "outputs": [],
   "source": [
    "result3=Agentstate(operation1='-',number1=1,number2=2,number3=3,number4=4,operation2=\"+\",final_number1=0,final_number2=0)\n"
   ]
  },
  {
   "cell_type": "code",
   "execution_count": 35,
   "id": "d35b133f",
   "metadata": {},
   "outputs": [
    {
     "name": "stdout",
     "output_type": "stream",
     "text": [
      "sub1\n",
      "add2\n"
     ]
    },
    {
     "data": {
      "text/plain": [
       "{'number1': 1,\n",
       " 'number2': 2,\n",
       " 'number3': 3,\n",
       " 'number4': 4,\n",
       " 'final_number1': -1,\n",
       " 'final_number2': 7,\n",
       " 'operation1': '-',\n",
       " 'operation2': '+'}"
      ]
     },
     "execution_count": 35,
     "metadata": {},
     "output_type": "execute_result"
    }
   ],
   "source": [
    "app1.invoke(result3)"
   ]
  },
  {
   "cell_type": "code",
   "execution_count": null,
   "id": "4760a2a6",
   "metadata": {},
   "outputs": [],
   "source": []
  },
  {
   "cell_type": "markdown",
   "id": "b2316d75",
   "metadata": {},
   "source": [
    "### third conditional graph for three conditional graph\n"
   ]
  },
  {
   "cell_type": "code",
   "execution_count": 36,
   "id": "ad4736e6",
   "metadata": {},
   "outputs": [],
   "source": [
    "\n",
    "# stateschema for our second exercise\n",
    "class graphstate(TypedDict):\n",
    "    n1:int\n",
    "    n2:int \n",
    "    n3:int \n",
    "    n4:int \n",
    "    n5:int\n",
    "    n6:int \n",
    "    operation1:str\n",
    "    operation2:str  \n",
    "    operation3:str\n",
    "    finl_nmb1:int\n",
    "    finl_nmb2:int\n",
    "    finl_nmb3:int   \n",
    "\n"
   ]
  },
  {
   "cell_type": "code",
   "execution_count": null,
   "id": "03cfb60a",
   "metadata": {},
   "outputs": [],
   "source": [
    "# node function for our third exercise \n",
    "def ad1 (state:graphstate)->graphstate:\n",
    "    '''this node add the number '''\n",
    "    s\n",
    "def subt1 (state:graphstate)->graphstate:\n",
    "def ad2 (state:graphstate)->graphstate:\n",
    "def subt2 (state:graphstate)->graphstate:\n",
    "def ad3 (state:graphstate)->graphstate:\n",
    "def subt3 (state:graphstate)->graphstate:\n",
    "\n",
    "\n",
    "\n",
    "\n"
   ]
  }
 ],
 "metadata": {
  "kernelspec": {
   "display_name": "Python 3",
   "language": "python",
   "name": "python3"
  },
  "language_info": {
   "codemirror_mode": {
    "name": "ipython",
    "version": 3
   },
   "file_extension": ".py",
   "mimetype": "text/x-python",
   "name": "python",
   "nbconvert_exporter": "python",
   "pygments_lexer": "ipython3",
   "version": "3.12.2"
  }
 },
 "nbformat": 4,
 "nbformat_minor": 5
}
